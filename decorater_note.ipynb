{
 "cells": [
  {
   "cell_type": "markdown",
   "source": [
    "## decorater\n",
    "\n"
   ],
   "metadata": {
    "collapsed": false
   }
  },
  {
   "cell_type": "markdown",
   "source": [
    "- 闭包,通俗的讲即把函数名当作参数传递进去"
   ],
   "metadata": {
    "collapsed": false
   }
  },
  {
   "cell_type": "code",
   "execution_count": 30,
   "outputs": [
    {
     "name": "stdout",
     "output_type": "stream",
     "text": [
      "11\n",
      "----------------------------------------------------------------------------------------------------\n"
     ]
    }
   ],
   "source": [
    "## 先看一个闭包例子\n",
    "def outer(x):\n",
    "\n",
    "    def inner(y):\n",
    "        return x + y\n",
    "\n",
    "    return inner\n",
    "\n",
    "print(outer(6)(5))\n",
    "print(\"-\"*100)\n",
    "\n",
    "## 调用过程：\n",
    "# 1) outer(6) 返回 inner(y)\n",
    "# 2) inner(5) 这里发现x的值也能够传递到里层函数"
   ],
   "metadata": {
    "collapsed": false,
    "pycharm": {
     "name": "#%%\n"
    }
   }
  },
  {
   "cell_type": "markdown",
   "source": [
    "- 先来一波最基本的装饰器"
   ],
   "metadata": {
    "collapsed": false,
    "pycharm": {
     "name": "#%% md\n"
    }
   }
  },
  {
   "cell_type": "code",
   "execution_count": 31,
   "outputs": [
    {
     "name": "stdout",
     "output_type": "stream",
     "text": [
      "the func:test is already be decorated!\n",
      "this is test\n",
      "wrapper\n",
      "----------------------------------------------------------------------------------------------------\n",
      "the func with value:test_2 is already be decorated!\n",
      "this is test_2 with value1:1, value2:2\n",
      "wrapper\n",
      "----------------------------------------------------------------------------------------------------\n",
      ">>> this is first called! value:1 \n",
      ">>> this is second called! value:1,<function test_3 at 0x050E5C90>\n",
      "----------------------------------------------------------------------------------------------------\n",
      "(111,) {}\n",
      ">>> this is inner decorater!third called! value:1\n",
      "this is test_3 with value:111\n"
     ]
    }
   ],
   "source": [
    "## wrapped 木有参数\n",
    "def decorater(func):\n",
    "    def wrapper():\n",
    "        print(f\"the func:{func.__name__} is already be decorated!\")\n",
    "        return func()\n",
    "    return wrapper\n",
    "\n",
    "\n",
    "@decorater\n",
    "def test():\n",
    "    print(f\"this is test\")\n",
    "\n",
    "test()\n",
    "print(test.__name__)\n",
    "\n",
    "print(\"-\"*100)\n",
    "\n",
    "## wrapped 有固定参数\n",
    "\n",
    "def decorater_2(func):\n",
    "    def wrapper(value1,value2):\n",
    "        print(f\"the func with value:{func.__name__} is already be decorated!\")\n",
    "        return func(value1,value2)\n",
    "    return wrapper\n",
    "\n",
    "\n",
    "@decorater_2\n",
    "def test_2(value1,value2):\n",
    "    print(f\"this is test_2 with value1:{value1}, value2:{value2}\")\n",
    "\n",
    "test_2(1,2)\n",
    "print(test_2.__name__)\n",
    "\n",
    "print('-'*100)\n",
    "## 调用说明:调用test/test_2说明：\n",
    "# 1) 先调用decorater 返回wrapper\n",
    "# 2) 调用wrapper(value1,value2)\n",
    "\n",
    "###############  这里有个细节！被装饰器装饰后的 wrapped 函数名字明显被改成 wrapper 的名字\n",
    "\n",
    "### both wrapped wrapper 带参数\n",
    "def decorater_3(value):\n",
    "    def wrapper(func):\n",
    "        def inner_wrapper(*args, **kwargs):\n",
    "            print(args,kwargs)\n",
    "            print(f\">>> this is inner decorater!third called! value:{value}\")\n",
    "            return func(*args, **kwargs)\n",
    "\n",
    "        print(f\">>> this is second called! value:{value},{func}\")\n",
    "        return inner_wrapper\n",
    "\n",
    "    print(f\">>> this is first called! value:{value} \")\n",
    "    return wrapper\n",
    "\n",
    "@decorater_3(1)\n",
    "def test_3(value_):\n",
    "    print(f\"this is test_3 with value:{value_}\")\n",
    "\n",
    "print(\"-\"*100)\n",
    "test_3(111)\n",
    "\n",
    "\n",
    "## 调用过程解析\n",
    "# 1)调用decorater_3(3) --> 返回 wrapper 此时value = 3\n",
    "# 2)调用wrapper(test_3) -->返回 inner_wrapper(test_3)\n",
    "# 3)执行 inner_wrapper\n",
    "\n",
    "# 执行第一步其实时返回 wrapper(func(xx)) (第二次调用日志打印出来了)\n",
    "# 第二部返回inner_wrapper，这里并不是inner_wrapper(*args, **kwargs) （通过改变inner_wrapper\n",
    "# 的参数就可以知道了）\n",
    "# 通过打印的日志可以知道,其实此时test_3(value_)已经变成调用 inner_wrapper(value_)(func = test_3)\n",
    "\n",
    "\n",
    "# 注意必须返回 函数调用，即函数名,倘若改为 xxx(),则是直接返回结果.\n",
    "# 会出现NoneType IS NOT CALLABLE错误"
   ],
   "metadata": {
    "collapsed": false,
    "pycharm": {
     "name": "#%%\n"
    }
   }
  },
  {
   "cell_type": "markdown",
   "source": [
    "- 难点：@wraps\n",
    "\n",
    "- 先了解 partial\n",
    "- 这是functools,从上面的例子来看，加了装饰器后，函数的\"__name__\"等属性都被改变，变成装饰器的\"__name__\"\n",
    ",作为一个坚持原则的我来说，是不能容忍自己随便被外界环境改变的！那么 @wraps他来了"
   ],
   "metadata": {
    "collapsed": false
   }
  },
  {
   "cell_type": "code",
   "execution_count": 32,
   "outputs": [
    {
     "name": "stdout",
     "output_type": "stream",
     "text": [
      ">> i am decorator!\n",
      "i am func value:11111\n",
      "test_1\n",
      "this is func\n",
      "----------------------------------------------------------------------------------------------------\n",
      ">> i am decorator!\n",
      "i am func value:1111\n",
      "wrapper\n",
      " this is decorator\n"
     ]
    }
   ],
   "source": [
    "import functools\n",
    "\n",
    "## 普通装饰器\n",
    "def decorater_1(func):\n",
    "    @functools.wraps(func)\n",
    "    def wrapper(*args, **kwargs):\n",
    "        \"\"\" this is decorator\"\"\"\n",
    "        print(f\">> i am decorator!\")\n",
    "        return func(*args, **kwargs)\n",
    "\n",
    "    return wrapper\n",
    "\n",
    "def decorater_1_1(func):\n",
    "    def wrapper(*args, **kwargs):\n",
    "        \"\"\" this is decorator\"\"\"\n",
    "        print(f\">> i am decorator!\")\n",
    "        return func(*args, **kwargs)\n",
    "\n",
    "    return wrapper\n",
    "\n",
    "@decorater_1\n",
    "def test_1(value):\n",
    "    \"\"\"this is func\"\"\"\n",
    "    print(f\"i am func value:{value}\")\n",
    "\n",
    "@decorater_1_1\n",
    "def test_1_1(value):\n",
    "    \"\"\"this is func\"\"\"\n",
    "    print(f\"i am func value:{value}\")\n",
    "\n",
    "test_1(11111)\n",
    "print(test_1.__name__)\n",
    "print(test_1.__doc__)\n",
    "\n",
    "print('-'*100)\n",
    "\n",
    "test_1_1(1111)\n",
    "print(test_1_1.__name__)\n",
    "print(test_1_1.__doc__)\n",
    "# amazing! 加了@functools.wraps(func)后发现即使加了装饰器，也能保持原来的一些函数属性了！"
   ],
   "metadata": {
    "collapsed": false,
    "pycharm": {
     "name": "#%%\n"
    }
   }
  },
  {
   "cell_type": "code",
   "execution_count": 33,
   "outputs": [
    {
     "name": "stdout",
     "output_type": "stream",
     "text": [
      ">> this is the first called! value:1\n",
      ">> this is the second called \n",
      "----------------------------------------------------------------------------------------------------\n",
      "(1111,) {}\n",
      ">> this is the inner !\n",
      ">> this is func value:1111\n",
      "inner\n",
      "this is decorator！！\n",
      "----------------------------------------------------------------------------------------------------\n",
      ">> this is the first called! value:1\n",
      ">> this is the second called \n",
      "----------------------------------------------------------------------------------------------------\n",
      "(1111,) {}\n",
      ">> this is the inner !\n",
      ">> this is func value:1111\n",
      "test_2_2\n",
      "this is func\n"
     ]
    }
   ],
   "source": [
    "# 再来一波带参数的装饰器\n",
    "def decorator_2(value):\n",
    "    def wrapper(func):\n",
    "        def inner(*args,**kwargs):\n",
    "            \"\"\"this is decorator！！\"\"\"\n",
    "            print(args,kwargs)\n",
    "            print(f\">> this is the inner !\")\n",
    "            return func(*args,**kwargs)\n",
    "\n",
    "        print(f\">> this is the second called \")\n",
    "        return inner\n",
    "\n",
    "    print(f\">> this is the first called! value:{value}\")\n",
    "    return wrapper\n",
    "\n",
    "@decorator_2(1)\n",
    "def test_2(value):\n",
    "    \"\"\"this is func\"\"\"\n",
    "    print(f\">> this is func value:{value}\")\n",
    "\n",
    "print('-'*100)\n",
    "test_2(1111)\n",
    "print(test_2.__name__)\n",
    "print(test_2.__doc__)  ## 同样是被改变了 function的一些属性~\n",
    "\n",
    "print('-'*100)\n",
    "\n",
    "def decorator_2_2(value):\n",
    "    def wrapper(func):\n",
    "        @functools.wraps(func)\n",
    "        def inner(*args,**kwargs):\n",
    "            \"\"\"this is decorator!\"\"\"\n",
    "            print(args,kwargs)\n",
    "            print(f\">> this is the inner !\")\n",
    "            return func(*args,**kwargs)\n",
    "\n",
    "        print(f\">> this is the second called \")\n",
    "        return inner\n",
    "\n",
    "    print(f\">> this is the first called! value:{value}\")\n",
    "    return wrapper\n",
    "\n",
    "@decorator_2_2(1)\n",
    "def test_2_2(value):\n",
    "    \"\"\"this is func\"\"\"\n",
    "    print(f\">> this is func value:{value}\")\n",
    "\n",
    "print('-'*100)\n",
    "test_2_2(1111)\n",
    "print(test_2_2.__name__)\n",
    "print(test_2_2.__doc__)  ## 同样是被改变了 function的一些属性~\n",
    "\n"
   ],
   "metadata": {
    "collapsed": false,
    "pycharm": {
     "name": "#%%\n"
    }
   }
  },
  {
   "cell_type": "markdown",
   "source": [
    "- @wraps的实现原理其实就是利用了functool 的 partial，对其中的一些属性进行的重新赋值，具体请看\n",
    "本项目的相关单元 \n"
   ],
   "metadata": {
    "collapsed": false
   }
  }
 ],
 "metadata": {
  "kernelspec": {
   "display_name": "Python 3",
   "language": "python",
   "name": "python3"
  },
  "language_info": {
   "codemirror_mode": {
    "name": "ipython",
    "version": 2
   },
   "file_extension": ".py",
   "mimetype": "text/x-python",
   "name": "python",
   "nbconvert_exporter": "python",
   "pygments_lexer": "ipython2",
   "version": "2.7.6"
  }
 },
 "nbformat": 4,
 "nbformat_minor": 0
}