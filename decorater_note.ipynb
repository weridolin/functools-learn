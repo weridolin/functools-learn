{
 "cells": [
  {
   "cell_type": "markdown",
   "source": [
    "## decorater\n",
    "\n"
   ],
   "metadata": {
    "collapsed": false
   }
  },
  {
   "cell_type": "markdown",
   "source": [
    "- 闭包,通俗的讲即把函数名当作参数传递进去"
   ],
   "metadata": {
    "collapsed": false
   }
  },
  {
   "cell_type": "code",
   "execution_count": 33,
   "outputs": [
    {
     "name": "stdout",
     "output_type": "stream",
     "text": [
      "11\n",
      "----------------------------------------------------------------------------------------------------\n"
     ]
    }
   ],
   "source": [
    "## 先看一个闭包例子\n",
    "def outer(x):\n",
    "\n",
    "    def inner(y):\n",
    "        return x + y\n",
    "\n",
    "    return inner\n",
    "\n",
    "print(outer(6)(5))\n",
    "print(\"-\"*100)\n",
    "\n",
    "## 调用过程：\n",
    "# 1) outer(6) 返回 inner(y)\n",
    "# 2) inner(5) 这里发现x的值也能够传递到里层函数"
   ],
   "metadata": {
    "collapsed": false,
    "pycharm": {
     "name": "#%%\n"
    }
   }
  },
  {
   "cell_type": "markdown",
   "source": [
    "- 先来一波最基本的装饰器"
   ],
   "metadata": {
    "collapsed": false,
    "pycharm": {
     "name": "#%% md\n"
    }
   }
  },
  {
   "cell_type": "code",
   "execution_count": 34,
   "outputs": [
    {
     "name": "stdout",
     "output_type": "stream",
     "text": [
      "the func:test is already be decorated!\n",
      "this is test\n",
      "wrapper\n",
      "----------------------------------------------------------------------------------------------------\n",
      "the func with value:test_2 is already be decorated!\n",
      "this is test_2 with value1:1, value2:2\n",
      "wrapper\n",
      "----------------------------------------------------------------------------------------------------\n",
      ">>> this is first called! value:1 \n",
      ">>> this is second called! value:1,<function test_3 at 0x07F28588>\n",
      ">>> this is inner decorater!third called! value:1\n",
      "this is test_3 with value:<function test_3 at 0x07F28588>\n"
     ]
    }
   ],
   "source": [
    "## wrapped 木有参数\n",
    "def decorater(func):\n",
    "    def wrapper():\n",
    "        print(f\"the func:{func.__name__} is already be decorated!\")\n",
    "        return func()\n",
    "    return wrapper\n",
    "\n",
    "\n",
    "@decorater\n",
    "def test():\n",
    "    print(f\"this is test\")\n",
    "\n",
    "test()\n",
    "print(test.__name__)\n",
    "\n",
    "print(\"-\"*100)\n",
    "\n",
    "## wrapped 有固定参数\n",
    "\n",
    "def decorater_2(func):\n",
    "    def wrapper(value1,value2):\n",
    "        print(f\"the func with value:{func.__name__} is already be decorated!\")\n",
    "        return func(value1,value2)\n",
    "    return wrapper\n",
    "\n",
    "\n",
    "\n",
    "@decorater_2\n",
    "def test_2(value1,value2):\n",
    "    print(f\"this is test_2 with value1:{value1}, value2:{value2}\")\n",
    "\n",
    "test_2(1,2)\n",
    "print(test_2.__name__)\n",
    "\n",
    "print('-'*100)\n",
    "## 调用说明:调用test/test_2说明：\n",
    "# 1) 先调用decorater 返回wrapper\n",
    "# 2) 调用wrapper(value1,value2)\n",
    "\n",
    "###############  这里有个细节！被装饰器装饰后的 wrapped 函数名字明显被改成 wrapper 的名字\n",
    "\n",
    "### both wrapped wrapper 带参数\n",
    "def decorater_3(value):\n",
    "    def wrapper(func):\n",
    "        def inner_wrapper(*args, **kwargs):\n",
    "            print(f\">>> this is inner decorater!third called! value:{value}\")\n",
    "            return func(*args, **kwargs)\n",
    "\n",
    "        print(f\">>> this is second called! value:{value},{func}\")\n",
    "        return inner_wrapper(func)\n",
    "\n",
    "    print(f\">>> this is first called! value:{value} \")\n",
    "    return wrapper\n",
    "\n",
    "\n",
    "@decorater_3(1)\n",
    "def test_3(value):\n",
    "    print(f\"this is test_3 with value:{value}\")\n",
    "\n",
    "\n",
    "## 调用过程解析\n",
    "# 1)调用decorater_3(3) --> 返回 wrapper 此时value = 3\n",
    "# 此时等价于:\n",
    "# @wrapper\n",
    "# def test_3(value):\n",
    "#     print(f\"this is test_3 with value:{value}\")\n",
    "\n",
    "# 2)调用wrapper(test_3) -->返回 inner_wrapper(test_3)\n",
    "# 3)执行 inner_wrapper\n",
    "\n",
    "\n",
    "## 这里发现 倘若第 79行改为 return inner_wrapper ,则inner_wrapper里面的代码全部没有执行，则说明返回的值是函数地址\n",
    "# 那么问题来了,为什么82行的wrapper 没有带()呢，这个估计就时语法糖@的关系了,加了之后实际运行的时wrapper(test_3)\n",
    "# 因为把 73 行的参数”func“去掉后就会报”0 param was required but 1 is given “的错误"
   ],
   "metadata": {
    "collapsed": false,
    "pycharm": {
     "name": "#%%\n"
    }
   }
  },
  {
   "cell_type": "markdown",
   "source": [
    "- 难点：@wraps\n"
   ],
   "metadata": {
    "collapsed": false
   }
  }
 ],
 "metadata": {
  "kernelspec": {
   "display_name": "Python 3",
   "language": "python",
   "name": "python3"
  },
  "language_info": {
   "codemirror_mode": {
    "name": "ipython",
    "version": 2
   },
   "file_extension": ".py",
   "mimetype": "text/x-python",
   "name": "python",
   "nbconvert_exporter": "python",
   "pygments_lexer": "ipython2",
   "version": "2.7.6"
  }
 },
 "nbformat": 4,
 "nbformat_minor": 0
}