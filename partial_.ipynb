{
 "cells": [
  {
   "cell_type": "markdown",
   "metadata": {
    "collapsed": true,
    "pycharm": {
     "name": "#%% md\n"
    }
   },
   "source": [
    "- partial 源码解析\n",
    "- 用一个实际的例子，加一些打印信息来说明，注释都是基于该例子\n",
    "- 在Debug 模式下阅读更加\n"
   ]
  },
  {
   "cell_type": "code",
   "source": [
    "class partial:\n",
    "    \"\"\"New function with partial application of the given arguments\n",
    "    and keywords.\n",
    "    \"\"\"\n",
    "\n",
    "    __slots__ = \"func\", \"args\", \"keywords\", \"__dict__\", \"__weakref__\"\n",
    "\n",
    "    def __new__(*args, **keywords):\n",
    "        \"\"\"  加了一些注释\"\"\"\n",
    "        \"\"\"此时 args 包括2个参数,一个partial实例  一个add 函数\"\"\"\n",
    "        if not args:\n",
    "            raise TypeError(\"descriptor '__new__' of partial needs an argument\")\n",
    "\n",
    "        \"\"\" 这里明显是 限制必须输入一个被装饰的函数 \"\"\"\n",
    "        if len(args) < 2:\n",
    "            raise TypeError(\"type 'partial' takes at least one argument\")\n",
    "\n",
    "        \"\"\" cls：实例名   func :被装饰的函数 *args 为空???? \"\"\"\n",
    "        cls, func, *args = args\n",
    "\n",
    "        \"\"\" func 必须是一个可以调用的函数 \"\"\"\n",
    "        if not callable(func):\n",
    "            raise TypeError(\"the first argument must be callable\")\n",
    "\n",
    "        args = tuple(args)\n",
    "        print(args)\n",
    "\n",
    "        if hasattr(func, \"func\"):\n",
    "            print(func.args)\n",
    "            args = func.args + args\n",
    "            tmpkw = func.keywords.copy()\n",
    "            print(tmpkw)\n",
    "            tmpkw.update(keywords)\n",
    "            keywords = tmpkw\n",
    "            del tmpkw\n",
    "            func = func.func\n",
    "\n",
    "        self = super(partial, cls).__new__(cls)\n",
    "\n",
    "        self.func = func\n",
    "        self.args = args\n",
    "        self.keywords = keywords\n",
    "        return self\n",
    "\n",
    "    def __call__(*args, **keywords): ## __call__ 实例调用时返回的方法\n",
    "\n",
    "        \"\"\"调用拿 print(add_X1_2(x2=1,x3=2)) 举例  \"\"\"\n",
    "        if not args:\n",
    "            raise TypeError(\"descriptor '__call__' of partial needs an argument\")\n",
    "\n",
    "        \"\"\" self.keywords:{X1:3}       keywords:{x2=1,x3=2}          newkeywords{X1:3,x2=1,x3=2} \"\"\"\n",
    "        self, *args = args\n",
    "        newkeywords = self.keywords.copy()\n",
    "        newkeywords.update(keywords)\n",
    "        \"\"\" return add((),[],{X1:3,x2=1,x3=2} )\"\"\"\n",
    "        return self.func(*self.args, *args, **newkeywords)\n",
    "\n",
    "\n",
    "\n",
    "\n",
    "def add(x1,x2,x3):\n",
    "    return x1+x2+x3\n",
    "\n",
    "add_X1_2 = partial(add(1),x1=3)\n",
    "\n",
    "print(add_X1_2(x2=1,x3=2))\n",
    "print(add_X1_2(x2=2,x3=3))\n"
   ],
   "metadata": {
    "collapsed": false,
    "pycharm": {
     "name": "#%%\n"
    }
   },
   "execution_count": 3,
   "outputs": []
  },
  {
   "cell_type": "markdown",
   "source": [
    "- fun 的一些参数\n"
   ],
   "metadata": {
    "collapsed": false
   }
  },
  {
   "cell_type": "code",
   "execution_count": 2,
   "outputs": [
    {
     "name": "stdout",
     "output_type": "stream",
     "text": [
      "{}\n",
      "{}\n",
      "<method-wrapper '__call__' of function object at 0x05D81C90>\n",
      "(<class '__main__.Test'>, <function func_test at 0x05D81C90>) {'value': 1, 'value2': '#'}\n",
      "<class '__main__.Test'> <function func_test at 0x05D81C90>\n"
     ]
    }
   ],
   "source": [
    "def func_test(param=1):\n",
    "    print(param)\n",
    "\n",
    "def func_test_(**kwargs):\n",
    "    print(**kwargs)\n",
    "\n",
    "print(func_test.__dict__)\n",
    "\n",
    "print(func_test_.__dict__)\n",
    "\n",
    "print(func_test.__call__)\n",
    "\n",
    "\n",
    "class Test():\n",
    "    def __new__(*args, **kwargs):\n",
    "        print(args,kwargs)\n",
    "\n",
    "        cls, func, *args = args\n",
    "        print(cls,func,*args)\n",
    "\n",
    "\n",
    "a = Test(func_test,value=1,value2=\"#\")"
   ],
   "metadata": {
    "collapsed": false,
    "pycharm": {
     "name": "#%%\n"
    }
   }
  }
 ],
 "metadata": {
  "kernelspec": {
   "display_name": "Python 3",
   "language": "python",
   "name": "python3"
  },
  "language_info": {
   "codemirror_mode": {
    "name": "ipython",
    "version": 2
   },
   "file_extension": ".py",
   "mimetype": "text/x-python",
   "name": "python",
   "nbconvert_exporter": "python",
   "pygments_lexer": "ipython2",
   "version": "2.7.6"
  }
 },
 "nbformat": 4,
 "nbformat_minor": 0
}