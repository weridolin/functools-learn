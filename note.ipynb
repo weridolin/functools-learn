{
 "cells": [
  {
   "cell_type": "markdown",
   "metadata": {
    "collapsed": true,
    "pycharm": {
     "name": "#%% md\n"
    }
   },
   "source": [
    "#### from functools import cache\n",
    "\n",
    "## cache / lru_cache:\n",
    "- 记录以往函数运行的结果，避免参数重复时反复调用，达到提高性能的作用，相同参数会调用缓存\n",
    "\n",
    "```\n",
    "maxsize : 最大缓存个数，超过时将最近最少被访问的元素移除，从而腾出空间给新的元素\n",
    "\n",
    "type :true:不同类型的参数分别缓存，如3.0和3  False:3.0和3都是同一个\n",
    "\n",
    "```"
   ]
  },
  {
   "cell_type": "code",
   "execution_count": 7,
   "outputs": [
    {
     "name": "stdout",
     "output_type": "stream",
     "text": [
      "已经被调用\n",
      "None\n",
      "None\n",
      "test_list append :2\n",
      "0 2\n",
      "[2]\n"
     ]
    }
   ],
   "source": [
    "from functools import lru_cache\n",
    "\n",
    "\n",
    "@lru_cache(maxsize=None)\n",
    "def test_(a,b):\n",
    "    print(\"已经被调用\")\n",
    "\n",
    "print(test_(1,2))\n",
    "print(test_(1,2)) # 第二次调用缓存\n",
    "\n",
    "\n",
    "test_list=[]\n",
    "@lru_cache(maxsize=None)\n",
    "def test_value(val):\n",
    "    test_list.append(val)\n",
    "    print(f'test_list append :{val}')\n",
    "    for index,value in enumerate(test_list):\n",
    "        print(index,value)\n",
    "\n",
    "test_value(2)\n",
    "test_value(2) # 第二次直接调用缓冲运行的结果，而不会再次执行append\n",
    "print(test_list)"
   ],
   "metadata": {
    "collapsed": false,
    "pycharm": {
     "name": "#%%\n"
    }
   }
  },
  {
   "cell_type": "markdown",
   "source": [
    "#### cached_property:\n",
    "- 设置为类属性 equal to @property\n",
    "- 设置该属性为缓存,存在于整个实例周期中\n"
   ],
   "metadata": {
    "collapsed": false
   }
  },
  {
   "cell_type": "code",
   "source": [
    "# from functools import cached_property\n",
    "import functools\n",
    "class DataSet:\n",
    "    def __init__(self, sequence_of_numbers):\n",
    "        self._data = sequence_of_numbers\n",
    "\n",
    "\n",
    "    @functools.cached_property\n",
    "    def test_called(self):\n",
    "        print(f'>> method is called')\n",
    "        return 1\n",
    "\n",
    "    # @cached_property\n",
    "    # def variance(self):\n",
    "    #     return statistics.variance(self._data)\n",
    "\n",
    "dataset=DataSet([1,1,1,1])\n",
    "# 第一次调用\n",
    "dataset.test_called()\n",
    "# 第二次不会去调用，而是调用缓存\n",
    "dataset.test_called()"
   ],
   "metadata": {
    "collapsed": false,
    "pycharm": {
     "name": "#%%\n"
    }
   },
   "execution_count": 2,
   "outputs": [
    {
     "ename": "AttributeError",
     "evalue": "module 'functools' has no attribute 'cached_property'",
     "output_type": "error",
     "traceback": [
      "\u001B[1;31m---------------------------------------------------------------------------\u001B[0m",
      "\u001B[1;31mAttributeError\u001B[0m                            Traceback (most recent call last)",
      "\u001B[1;32m<ipython-input-2-ee6e4c461396>\u001B[0m in \u001B[0;36m<module>\u001B[1;34m\u001B[0m\n\u001B[0;32m      1\u001B[0m \u001B[1;31m# from functools import cached_property\u001B[0m\u001B[1;33m\u001B[0m\u001B[1;33m\u001B[0m\u001B[1;33m\u001B[0m\u001B[0m\n\u001B[0;32m      2\u001B[0m \u001B[1;32mimport\u001B[0m \u001B[0mfunctools\u001B[0m\u001B[1;33m\u001B[0m\u001B[1;33m\u001B[0m\u001B[0m\n\u001B[1;32m----> 3\u001B[1;33m \u001B[1;32mclass\u001B[0m \u001B[0mDataSet\u001B[0m\u001B[1;33m:\u001B[0m\u001B[1;33m\u001B[0m\u001B[1;33m\u001B[0m\u001B[0m\n\u001B[0m\u001B[0;32m      4\u001B[0m     \u001B[1;32mdef\u001B[0m \u001B[0m__init__\u001B[0m\u001B[1;33m(\u001B[0m\u001B[0mself\u001B[0m\u001B[1;33m,\u001B[0m \u001B[0msequence_of_numbers\u001B[0m\u001B[1;33m)\u001B[0m\u001B[1;33m:\u001B[0m\u001B[1;33m\u001B[0m\u001B[1;33m\u001B[0m\u001B[0m\n\u001B[0;32m      5\u001B[0m         \u001B[0mself\u001B[0m\u001B[1;33m.\u001B[0m\u001B[0m_data\u001B[0m \u001B[1;33m=\u001B[0m \u001B[0msequence_of_numbers\u001B[0m\u001B[1;33m\u001B[0m\u001B[1;33m\u001B[0m\u001B[0m\n",
      "\u001B[1;32m<ipython-input-2-ee6e4c461396>\u001B[0m in \u001B[0;36mDataSet\u001B[1;34m()\u001B[0m\n\u001B[0;32m      6\u001B[0m \u001B[1;33m\u001B[0m\u001B[0m\n\u001B[0;32m      7\u001B[0m \u001B[1;33m\u001B[0m\u001B[0m\n\u001B[1;32m----> 8\u001B[1;33m     \u001B[1;33m@\u001B[0m\u001B[0mfunctools\u001B[0m\u001B[1;33m.\u001B[0m\u001B[0mcached_property\u001B[0m\u001B[1;33m\u001B[0m\u001B[1;33m\u001B[0m\u001B[0m\n\u001B[0m\u001B[0;32m      9\u001B[0m     \u001B[1;32mdef\u001B[0m \u001B[0mtest_called\u001B[0m\u001B[1;33m(\u001B[0m\u001B[0mself\u001B[0m\u001B[1;33m)\u001B[0m\u001B[1;33m:\u001B[0m\u001B[1;33m\u001B[0m\u001B[1;33m\u001B[0m\u001B[0m\n\u001B[0;32m     10\u001B[0m         \u001B[0mprint\u001B[0m\u001B[1;33m(\u001B[0m\u001B[1;34mf'>> method is called'\u001B[0m\u001B[1;33m)\u001B[0m\u001B[1;33m\u001B[0m\u001B[1;33m\u001B[0m\u001B[0m\n",
      "\u001B[1;31mAttributeError\u001B[0m: module 'functools' has no attribute 'cached_property'"
     ]
    }
   ]
  },
  {
   "cell_type": "markdown",
   "source": [
    "#### cmp_to_key(func)\n",
    "可以将一个cmp函数变成一个key函数，从而支持自定义排序,主要和sort（）搭配使用"
   ],
   "metadata": {
    "collapsed": false
   }
  },
  {
   "cell_type": "code",
   "execution_count": 9,
   "outputs": [
    {
     "name": "stdout",
     "output_type": "stream",
     "text": [
      "[(2, 10), (3, 6), (4, 3), (9, 4)]\n",
      "[(4, 3), (3, 6), (9, 4), (2, 10)]\n"
     ]
    }
   ],
   "source": [
    "lst = [(9, 4), (2, 10), (4, 3), (3, 6)]\n",
    "lst.sort(key=lambda item: item[0])\n",
    "print(lst)\n",
    "\n",
    "#  等价于\n",
    "\n",
    "from functools import cmp_to_key\n",
    "lst = [(9, 4), (2, 10), (4, 3), (3, 6)]\n",
    "\n",
    "def cmp(x, y):\n",
    "    \"\"\"如果元组里第一个元素是奇数，就用元组里第一个元素进行排序，\n",
    "    如果元组里第一个元素是偶数，则用这个元组里的第二个元组进行大小比较\"\"\"\n",
    "    a = x[0] if x[0] %2 == 1 else x[1]\n",
    "    b = y[0] if y[0] %2 == 1 else y[1]\n",
    "\n",
    "    return 1 if a > b else -1 if a < b else 0\n",
    "\n",
    "lst.sort(key=cmp_to_key(cmp))\n",
    "print(lst)\n"
   ],
   "metadata": {
    "collapsed": false,
    "pycharm": {
     "name": "#%%\n"
    }
   }
  },
  {
   "cell_type": "markdown",
   "source": [
    "#### total_ordering(cls)\n",
    "- 类装饰器，给类添加比较的方法\n",
    "- 被修饰的类必须至少定义 __lt__(), __le__(), __gt__() 或 __ge__() 中的一个，同时，被修饰的类还应该提供 __eq__() 方法。\n",
    "  类中定义了两个比较方法：一个定义相等，一个定义顺序。其他比较方法由@total_ordering基于这两个定义完成，\n",
    "  包括__le__()、__gt__()和__ge__()等，不等比较方法__ne__()默认基于__eq__()生成，装饰器无须参与\n",
    "#### 类的比较\n",
    "- __eq__()：定义的两个类相同的比较方法\n",
    "- __lt__(),__gt__() :定义类小于,大于的比较方法\n",
    "- __le__(),__ge__():<= , >=\n",
    "- __ne__(): \"!=\"\n",
    "\n"
   ],
   "metadata": {
    "collapsed": false
   }
  },
  {
   "cell_type": "code",
   "execution_count": null,
   "outputs": [],
   "source": [
    "from functools import total_ordering\n",
    "from typing import NamedTuple ,Any\n",
    "# namedtuple是继承自tuple的子类。\n",
    "# namedtuple创建一个和tuple类似的对象，而且对象拥有可访问的属性。\n",
    "\n",
    "@total_ordering\n",
    "class Card2(NamedTuple):\n",
    "    rank: int\n",
    "    suit: str\n",
    "    def __eq__(self, other: Any) -> bool:\n",
    "        if isinstance(other, Card2):\n",
    "            return self.rank == other.rank\n",
    "        elif isinstance(other, int):\n",
    "            return self.rank == other\n",
    "        return NotImplemented\n",
    "    def __lt__(self, other: Any) -> bool:\n",
    "        if isinstance(other, Card2):\n",
    "            return self.rank < other.rank\n",
    "        elif isinstance(other, int):\n",
    "            return self.rank < other\n",
    "        return NotImplemented\n",
    "\n",
    "\n"
   ],
   "metadata": {
    "collapsed": false,
    "pycharm": {
     "name": "#%%\n"
    }
   }
  },
  {
   "cell_type": "markdown",
   "source": [
    "#### partial\n",
    "-  它返回一个偏函数对象，这个对象和 func 一样，可以被调用，同时在调用的时候可以指定位置参数 (args) 和 关键字参数(*kwargs)。\n",
    "如果有更多的位置参数提供调用，它们会被附加到 args 中。如果有额外的关键字参数提供，它们将会扩展并覆盖原有的关键字参数。\n",
    "简单说就是给某些参数一些固定值\n",
    "\n",
    "\n",
    "#### particalmethod\n",
    "- 对于类方法，因为第一个参数是self，使用partial就会报错了。 对此，python3.4新引入了 partialmethod，\n",
    "\n",
    "\n",
    "- 必须指明参数名\n",
    "(param=value) √    \n",
    "(value) ×"
   ],
   "metadata": {
    "collapsed": false
   }
  },
  {
   "cell_type": "code",
   "execution_count": 20,
   "outputs": [
    {
     "name": "stdout",
     "output_type": "stream",
     "text": [
      "6\n",
      "6\n",
      "8\n",
      "--------------------\n",
      "1\n",
      "2\n",
      "3\n",
      "--------------------\n",
      "v1:10\n",
      "v2:20\n",
      "None\n",
      "--------------------\n",
      "10\n",
      "1\n",
      "2\n",
      "3\n",
      "--------------------\n",
      "k1:10\n",
      "k2:20\n",
      "k3:20\n",
      "--------------------\n",
      "10\n",
      "1\n",
      "2\n",
      "3\n",
      "--------------------\n",
      "k1:20\n",
      "k2:20\n",
      "3\n"
     ]
    }
   ],
   "source": [
    "from functools import partial\n",
    "\n",
    "def add(x1,x2,x3):\n",
    "    return x1+x2+x3\n",
    "\n",
    "print(add(1,2,3))\n",
    "add_X1_2 = partial(add,x1=3)\n",
    "print(add_X1_2(x2=1,x3=2))\n",
    "print(add_X1_2(x2=2,x3=3))\n",
    "\n",
    "def add(*args, **kwargs):\n",
    "    # 打印位置参数\n",
    "    print(\"-\"*20)\n",
    "    for n in args:\n",
    "        print(n)\n",
    "    print(\"-\"*20)\n",
    "    # 打印关键字参数\n",
    "    for k, v in kwargs.items():\n",
    "       print('%s:%s' % (k, v))\n",
    "\n",
    "print(add(1, 2, 3, v1=10, v2=20))\n",
    "\n",
    "## partial\n",
    "add_partial = partial(add, 10, k1=10, k2=20) # 固定了10,k1,k2两个参数\n",
    "add_partial(1, 2, 3, k3=20)\n",
    "add_partial(1, 2, 3, k1=20)\n",
    "\n",
    "\n",
    "### partical\n",
    "class mathmethod():\n",
    "\n",
    "    def add(self,x,y):\n",
    "        return x+y\n",
    "\n",
    "    def add_x_1(self,y):\n",
    "        add_= partial(self.add,x=1)\n",
    "        return add_(y=y)\n",
    "test = mathmethod()\n",
    "print(test.add_x_1(y=2))"
   ],
   "metadata": {
    "collapsed": false,
    "pycharm": {
     "name": "#%%\n"
    }
   }
  }
 ],
 "metadata": {
  "kernelspec": {
   "display_name": "Python 3",
   "language": "python",
   "name": "python3"
  },
  "language_info": {
   "codemirror_mode": {
    "name": "ipython",
    "version": 2
   },
   "file_extension": ".py",
   "mimetype": "text/x-python",
   "name": "python",
   "nbconvert_exporter": "python",
   "pygments_lexer": "ipython2",
   "version": "2.7.6"
  }
 },
 "nbformat": 4,
 "nbformat_minor": 0
}