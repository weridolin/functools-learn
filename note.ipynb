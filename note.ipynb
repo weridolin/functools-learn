{
 "cells": [
  {
   "cell_type": "markdown",
   "metadata": {
    "collapsed": true,
    "pycharm": {
     "name": "#%% md\n"
    }
   },
   "source": [
    "#### from functools import cache\n",
    "\n",
    "## cache / lru_cache:\n",
    "- 记录以往函数运行的结果，避免参数重复时反复调用，达到提高性能的作用，相同参数会调用缓存\n",
    "\n",
    "```\n",
    "maxsize : 最大缓存个数，超过时将最近最少被访问的元素移除，从而腾出空间给新的元素\n",
    "\n",
    "type :true:不同类型的参数分别缓存，如3.0和3  False:3.0和3都是同一个\n",
    "\n",
    "```"
   ]
  },
  {
   "cell_type": "code",
   "execution_count": 7,
   "outputs": [
    {
     "name": "stdout",
     "output_type": "stream",
     "text": [
      "已经被调用\n",
      "None\n",
      "None\n",
      "test_list append :2\n",
      "0 2\n",
      "[2]\n"
     ]
    }
   ],
   "source": [
    "from functools import lru_cache\n",
    "\n",
    "\n",
    "@lru_cache(maxsize=None)\n",
    "def test_(a,b):\n",
    "    print(\"已经被调用\")\n",
    "\n",
    "print(test_(1,2))\n",
    "print(test_(1,2)) # 第二次调用缓存\n",
    "\n",
    "\n",
    "test_list=[]\n",
    "@lru_cache(maxsize=None)\n",
    "def test_value(val):\n",
    "    test_list.append(val)\n",
    "    print(f'test_list append :{val}')\n",
    "    for index,value in enumerate(test_list):\n",
    "        print(index,value)\n",
    "\n",
    "test_value(2)\n",
    "test_value(2) # 第二次直接调用缓冲运行的结果，而不会再次执行append\n",
    "print(test_list)"
   ],
   "metadata": {
    "collapsed": false,
    "pycharm": {
     "name": "#%%\n"
    }
   }
  },
  {
   "cell_type": "markdown",
   "source": [],
   "metadata": {
    "collapsed": false
   }
  }
 ],
 "metadata": {
  "kernelspec": {
   "display_name": "Python 3",
   "language": "python",
   "name": "python3"
  },
  "language_info": {
   "codemirror_mode": {
    "name": "ipython",
    "version": 2
   },
   "file_extension": ".py",
   "mimetype": "text/x-python",
   "name": "python",
   "nbconvert_exporter": "python",
   "pygments_lexer": "ipython2",
   "version": "2.7.6"
  }
 },
 "nbformat": 4,
 "nbformat_minor": 0
}